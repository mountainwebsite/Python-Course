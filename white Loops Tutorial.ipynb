{
 "cells": [
  {
   "cell_type": "code",
   "execution_count": 3,
   "metadata": {},
   "outputs": [
    {
     "name": "stdout",
     "output_type": "stream",
     "text": [
      "hello! x is currently 0\n",
      "hello! x is currently 1\n",
      "hello! x is currently 2\n",
      "hello! x is currently 3\n",
      "hello! x is currently 4\n",
      "hello! x is currently 5\n",
      "hello! x is currently 6\n",
      "hello! x is currently 7\n",
      "hello! x is currently 8\n",
      "hello! x is currently 9\n",
      "All Done\n"
     ]
    }
   ],
   "source": [
    "#While works as long as its condition has not been met\n",
    "x = 0\n",
    "\n",
    "while x < 10:\n",
    "    print 'hello! x is currently' ,x\n",
    "    x = x + 1\n",
    "    \n",
    "else:\n",
    "    print 'All Done'"
   ]
  },
  {
   "cell_type": "code",
   "execution_count": null,
   "metadata": {},
   "outputs": [],
   "source": [
    "x = 0"
   ]
  },
  {
   "cell_type": "code",
   "execution_count": null,
   "metadata": {
    "collapsed": true
   },
   "outputs": [],
   "source": [
    "#Now break, continue and pass\n",
    "p = 0\n",
    "\n",
    "while p < 10:\n",
    "    print 'x is currently ',x\n",
    "    print 'x is still less than 10, adding 1 to x'\n",
    "    p += 1\n",
    "    \n",
    "    if p == 3:\n",
    "        print 'Hey, x is now equal to 3!'\n",
    "    else:\n",
    "        print 'continueing...'\n",
    "        continue"
   ]
  },
  {
   "cell_type": "code",
   "execution_count": null,
   "metadata": {
    "collapsed": true
   },
   "outputs": [],
   "source": []
  }
 ],
 "metadata": {
  "kernelspec": {
   "display_name": "Python 2",
   "language": "python",
   "name": "python2"
  },
  "language_info": {
   "codemirror_mode": {
    "name": "ipython",
    "version": 2
   },
   "file_extension": ".py",
   "mimetype": "text/x-python",
   "name": "python",
   "nbconvert_exporter": "python",
   "pygments_lexer": "ipython2",
   "version": "2.7.13"
  }
 },
 "nbformat": 4,
 "nbformat_minor": 2
}
